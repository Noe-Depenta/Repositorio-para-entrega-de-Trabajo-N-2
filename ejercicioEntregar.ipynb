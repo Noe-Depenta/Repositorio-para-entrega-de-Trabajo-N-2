{
 "cells": [
  {
   "cell_type": "markdown",
   "metadata": {},
   "source": [
    "## Ejercicio 10"
   ]
  },
  {
   "cell_type": "markdown",
   "metadata": {},
   "source": [
    "### Estos son los datos que nos dan para generar una estructura en los cual almacenarlos asociados a cada jugador"
   ]
  },
  {
   "cell_type": "code",
   "execution_count": null,
   "metadata": {},
   "outputs": [],
   "source": [
    "names = \"\"\" Agustin, Yanina, Andrés, Ariadna, Bautista, CAROLINA,\n",
    "CESAR, David, Diego, Dolores, DYLAN, ELIANA, Emanuel, Fabián, Noelia,\n",
    "Francsica', FEDERICO, Fernanda, GONZALO, Nancy \"\"\"\n",
    "goals = [0, 10, 4, 0, 5, 14, 0, 0, 7, 2, 1, 1, 1, 5, 6, 1, 1, 2, 0,\n",
    "11]\n",
    "goals_avoided = [0, 2, 0, 0, 5, 2, 0, 0, 1, 2, 0, 5, 5, 0, 1, 0, 2,\n",
    "3, 0, 0]\n",
    "assists = [0, 5, 1, 0, 5, 2, 0, 0, 1, 2, 1, 5, 5, 0, 1, 0, 2, 3, 1,\n",
    "0]"
   ]
  },
  {
   "cell_type": "markdown",
   "metadata": {},
   "source": [
    "### Creo el diccionario para cada jugador con sus estadisticas, la idea es crear una lista de diccionarios en donde cada diccionario contiene la informacion de cada jugador, importo los metodos de calculadora e invoco las funciones."
   ]
  },
  {
   "cell_type": "code",
   "execution_count": 1,
   "metadata": {},
   "outputs": [
    {
     "name": "stdout",
     "output_type": "stream",
     "text": [
      "El mayor goleador es CAROLINA con 14 goles.\n",
      "El jugador mas influyente es:  CAROLINA\n",
      "Promedio de goles por partido del equipo en general:  2.84\n",
      "El mayor goleador es CAROLINA con promedio de 0.56  goles.\n"
     ]
    }
   ],
   "source": [
    "import modulo\n",
    "from modulo import torneo\n",
    "estadisticas_jugador=[]\n",
    "\n",
    "torneo.GenerarEstructura(estadisticas_jugador)\n",
    "torneo.CalcularGoleador(estadisticas_jugador)\n",
    "torneo.JugadorMasInfluyente(estadisticas_jugador)\n",
    "torneo.PromedioGolesEquipoGeneral(estadisticas_jugador)\n",
    "torneo.PromedioGolesGoleador(estadisticas_jugador)"
   ]
  }
 ],
 "metadata": {
  "kernelspec": {
   "display_name": "venv",
   "language": "python",
   "name": "python3"
  },
  "language_info": {
   "codemirror_mode": {
    "name": "ipython",
    "version": 3
   },
   "file_extension": ".py",
   "mimetype": "text/x-python",
   "name": "python",
   "nbconvert_exporter": "python",
   "pygments_lexer": "ipython3",
   "version": "3.11.1"
  }
 },
 "nbformat": 4,
 "nbformat_minor": 2
}
