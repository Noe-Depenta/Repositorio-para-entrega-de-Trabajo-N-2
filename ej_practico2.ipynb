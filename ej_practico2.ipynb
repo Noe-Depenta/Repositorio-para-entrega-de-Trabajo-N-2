{
 "cells": [
  {
   "cell_type": "markdown",
   "id": "9d2866b4",
   "metadata": {},
   "source": [
    "### Ejercicio 1 Primero defino la variable con el texto del readme                                                                                                                                                                                                                                           "
   ]
  },
  {
   "cell_type": "code",
   "execution_count": 6,
   "id": "db5e9547-7332-45c0-9cc0-490825005e9e",
   "metadata": {},
   "outputs": [
    {
     "name": "stdout",
     "output_type": "stream",
     "text": [
      " JupyterLab is a web-based interactive development\n",
      "environment for Jupyter notebooks code and data JupyterLab is\n",
      "flexible configure and arrange the user interface to support a wide\n",
      "range of workflows in data science scientific computing and machine\n",
      "learning JupyterLab is extensible and modular write plugins that add\n",
      "new components and integrate with existing ones \n"
     ]
    }
   ],
   "source": [
    "tjupyter_info = \"\"\" JupyterLab is a web-based interactive development\n",
    "environment for Jupyter notebooks, code, and data. JupyterLab is\n",
    "flexible: configure and arrange the user interface to support a wide\n",
    "range of workflows in data science, scientific computing, and machine\n",
    "learning. JupyterLab is extensible and modular: write plugins that add\n",
    "new components and integrate with existing ones. \"\"\"\n",
    "characters=(':',';','.',',')\n",
    "for char in characters:\n",
    "    tjupyter_info=tjupyter_info.replace(char,'')\n",
    "print(tjupyter_info)\n"
   ]
  },
  {
   "cell_type": "code",
   "execution_count": 8,
   "id": "053cea81",
   "metadata": {},
   "outputs": [
    {
     "name": "stdout",
     "output_type": "stream",
     "text": [
      "['', 'JupyterLab', 'is', 'a', 'web-based', 'interactive', 'development\\nenvironment', 'for', 'Jupyter', 'notebooks', 'code', 'and', 'data', 'JupyterLab', 'is\\nflexible', 'configure', 'and', 'arrange', 'the', 'user', 'interface', 'to', 'support', 'a', 'wide\\nrange', 'of', 'workflows', 'in', 'data', 'science', 'scientific', 'computing', 'and', 'machine\\nlearning', 'JupyterLab', 'is', 'extensible', 'and', 'modular', 'write', 'plugins', 'that', 'add\\nnew', 'components', 'and', 'integrate', 'with', 'existing', 'ones', '']\n"
     ]
    }
   ],
   "source": [
    "words = tjupyter_info.split(\" \")\n",
    "print(words)"
   ]
  },
  {
   "cell_type": "code",
   "execution_count": 14,
   "id": "a6a04489",
   "metadata": {},
   "outputs": [
    {
     "name": "stdout",
     "output_type": "stream",
     "text": [
      "JupyterLab\n",
      "a\n",
      "web-based\n",
      "interactive\n",
      "and\n",
      "data\n",
      "JupyterLab\n",
      "and\n",
      "arrange\n",
      "interface\n",
      "a\n",
      "wide\n",
      "range\n",
      "data\n",
      "and\n",
      "machine\n",
      "learning\n",
      "JupyterLab\n",
      "and\n",
      "modular\n",
      "that\n",
      "add\n",
      "new\n",
      "and\n",
      "integrate\n"
     ]
    }
   ],
   "source": [
    "letra = input(\"Ingresa una letra: \")\n",
    "if not letra:\n",
    "    print(\"Ver: módulo string\")\n",
    "else:\n",
    "    cont=0\n",
    "    for word in words:\n",
    "        cont=0\n",
    "        for letter in word:\n",
    "            if letter==letra and cont==0:\n",
    "                print(word)\n",
    "                cont=+1"
   ]
  },
  {
   "cell_type": "code",
   "execution_count": 17,
   "id": "bc753448",
   "metadata": {},
   "outputs": [
    {
     "name": "stdout",
     "output_type": "stream",
     "text": [
      "Hay al menos una letra a y n.\n"
     ]
    }
   ],
   "source": [
    "word = input(\"Ingresá una palabra: \")\n",
    "if \"a\" and \"n\" in word:\n",
    "    print(\"Hay al menos una letra a y n.\")\n",
    "else:\n",
    "    print(\"No hay letras a y n juntas. \")"
   ]
  },
  {
   "cell_type": "code",
   "execution_count": 41,
   "id": "d457e12b",
   "metadata": {},
   "outputs": [
    {
     "name": "stdout",
     "output_type": "stream",
     "text": [
      "Título: no ok\n",
      "Cantidad de oraciones fáciles de leer: 1\n",
      "Cantidad de oraciones aceptables para leer: 2\n",
      "Cantidad de oraciones difíciles de leer: 1\n",
      "Cantidad de oraciones muy difíciles de leer: 2\n"
     ]
    }
   ],
   "source": [
    "article = \"\"\" título: Experiences in Developing a Distributed Agent based Modeling Toolkit with Python Version 3\n",
    "resumen: Distributed agent-based modeling (ABM) on high-performance\n",
    "computing resources provides the promise of capturing unprecedented\n",
    "details of large-scale complex systems. However, the specialized\n",
    "knowledge required for developing such ABMs creates barriers to wider\n",
    "adoption and utilization. Here we present our experiences in\n",
    "developing an initial implementation of Repast4Py, a Python-based\n",
    "distributed ABM toolkit. We build on our experiences in developing ABM\n",
    "toolkits, including Repast for High Performance Computing (Repast\n",
    "HPC), to identify the key elements of a useful distributed ABM\n",
    "toolkit. We leverage the Numba, NumPy, and PyTorch packages and the\n",
    "En este ejemplo se debe informar:\n",
    "Python C-API to create a scalable modeling system that can exploit the\n",
    "largest HPC resources and emerging computing architectures. \"\"\"\n",
    "\n",
    "def contarOraciones(article):\n",
    "    resumen = article.split(\"resumen:\")[1].strip()\n",
    "    oraciones = resumen.split(\".\")\n",
    "    facil_de_leer = 0\n",
    "    aceptable_para_leer = 0\n",
    "    dificil_de_leer = 0\n",
    "    muy_dificil_de_leer = 0\n",
    "    for oracion in oraciones:\n",
    "        palabras = oracion.split()\n",
    "        if len(palabras) <= 12:\n",
    "            facil_de_leer += 1\n",
    "        elif len(palabras) <= 17:\n",
    "            aceptable_para_leer += 1\n",
    "        elif len(palabras) <= 25:\n",
    "            dificil_de_leer += 1\n",
    "        else:\n",
    "            muy_dificil_de_leer += 1\n",
    "    return facil_de_leer,aceptable_para_leer,dificil_de_leer,muy_dificil_de_leer\n",
    "\n",
    "def contarTitulo(article):\n",
    "    titulo = article.split(\"título:\")[1].split(\"resumen:\")[0].strip()\n",
    "    palabras_titulo = titulo.split()\n",
    "    if len(palabras_titulo) <=10:\n",
    "        return \"ok\"\n",
    "    else:\n",
    "        return \"no ok\"\n",
    "\n",
    "print(\"Título:\", contarTitulo(article))\n",
    "facil_de_leer, aceptable_para_leer, dificil_de_leer, muy_dificil_de_leer = contarOraciones(article)\n",
    "print(\"Cantidad de oraciones fáciles de leer:\", facil_de_leer)\n",
    "print(\"Cantidad de oraciones aceptables para leer:\", aceptable_para_leer)\n",
    "print(\"Cantidad de oraciones difíciles de leer:\", dificil_de_leer)\n",
    "print(\"Cantidad de oraciones muy difíciles de leer:\", muy_dificil_de_leer)"
   ]
  },
  {
   "cell_type": "code",
   "execution_count": 14,
   "id": "afbfdb32",
   "metadata": {},
   "outputs": [
    {
     "name": "stdout",
     "output_type": "stream",
     "text": [
      "Frase:  Tres tristes tigres, tragaban trigo en un trigal, en tres tristes trastos, tragaban trigo tres tristes tigres\n",
      "Palabra:  TRISTES\n",
      "Resultado:  3\n"
     ]
    }
   ],
   "source": [
    "frase = input(\"Ingrese una frase: \")\n",
    "word = input(\"Ingresá una palabra: \")\n",
    "listaP=[]\n",
    "cont=0\n",
    "def InformarString(frase,word,cont):\n",
    "    fraseF= frase.split(\" \")\n",
    "    for palabra in fraseF:\n",
    "        listaP.append(palabra)  \n",
    "    for palabra in listaP:\n",
    "        if palabra.lower() == word.lower():\n",
    "            cont+=1\n",
    "    print(\"Frase: \",frase)\n",
    "    print(\"Palabra: \",word)\n",
    "    print(\"Resultado: \",cont)\n",
    "InformarString(frase,word,cont)"
   ]
  },
  {
   "cell_type": "code",
   "execution_count": 23,
   "id": "e424ca0f",
   "metadata": {},
   "outputs": [
    {
     "name": "stdout",
     "output_type": "stream",
     "text": [
      "Mayúsculas: 1\n",
      "Minúsculas: 123\n",
      "Caracteres no letras: 10\n",
      "Palabras: 30\n",
      "['2', '7', ',', '7', '%', ':', '8', '1', '0', '.']\n"
     ]
    }
   ],
   "source": [
    "text = \"\"\"La brecha salarial alcanzó el 27,7%: las mujeres ocupadas\n",
    "debieron trabajar 8 días y 10 horas más que los varones ocupados para\n",
    "ganar lo mismo que ellos en un mes. \"\"\"\n",
    "listaP=[]\n",
    "upper_count = sum(1 for char in text if char.isupper())\n",
    "lower_count = sum(1 for char in text if char.islower())\n",
    "non_letter_count = sum(1 for char in text if not char.isalpha() and not char.isspace())\n",
    "for char in text:\n",
    "    if not char.isalpha() and not char.isspace():\n",
    "        listaP.append(char)\n",
    "word_count = len(text.split())\n",
    "print(\"Mayúsculas:\", upper_count)\n",
    "print(\"Minúsculas:\", lower_count)\n",
    "print(\"Caracteres no letras:\", non_letter_count)\n",
    "print(\"Palabras:\", word_count)\n",
    "print(listaP)"
   ]
  },
  {
   "cell_type": "code",
   "execution_count": 32,
   "id": "95d0eb5f",
   "metadata": {},
   "outputs": [
    {
     "name": "stdout",
     "output_type": "stream",
     "text": [
      "La palabra o frase NO es un heterograma.\n"
     ]
    }
   ],
   "source": [
    "text = input(\"Ingrese una frase o palabra: \")\n",
    "\n",
    "def EsHeterograma(text):\n",
    "    letras_usadas=set()\n",
    "    for letter in text:\n",
    "        if letter.isalpha():\n",
    "            if letter.lower() in letras_usadas:\n",
    "                return False\n",
    "            letras_usadas.add(letter.lower())\n",
    "    return True\n",
    "\n",
    "if EsHeterograma(text):\n",
    "    print(\"La palabra o frase es un heterograma.\")\n",
    "else:\n",
    "    print(\"La palabra o frase NO es un heterograma.\")"
   ]
  },
  {
   "cell_type": "code",
   "execution_count": 37,
   "id": "20de89e8",
   "metadata": {},
   "outputs": [
    {
     "name": "stdout",
     "output_type": "stream",
     "text": [
      "El valor de la palabra D en Scrabble es: 2\n"
     ]
    }
   ],
   "source": [
    "palabra = input(\"Ingrese una palabra: \").upper()\n",
    "\n",
    "tabla_valores={'A': 1, 'E': 1, 'I': 1, 'O': 1, 'U': 1, 'L': 1, 'N': 1, 'R': 1, 'S': 1, 'T': 1,\n",
    "               'D': 2, 'G': 2,\n",
    "               'B': 3, 'C': 3, 'M': 3, 'P': 3,\n",
    "               'F': 4, 'H': 4, 'V': 4, 'W': 4, 'Y': 4,\n",
    "               'K': 5,\n",
    "               'J':8, 'X':8,\n",
    "               'Q':10, 'Z': 10}\n",
    "\n",
    "valor_palabra=sum(tabla_valores.get(letra, 0) for letra in palabra)\n",
    "print(\"El valor de la palabra\", palabra, \"en Scrabble es:\", valor_palabra)"
   ]
  }
 ],
 "metadata": {
  "kernelspec": {
   "display_name": "venv",
   "language": "python",
   "name": "python3"
  },
  "language_info": {
   "codemirror_mode": {
    "name": "ipython",
    "version": 3
   },
   "file_extension": ".py",
   "mimetype": "text/x-python",
   "name": "python",
   "nbconvert_exporter": "python",
   "pygments_lexer": "ipython3",
   "version": "3.11.1"
  }
 },
 "nbformat": 4,
 "nbformat_minor": 5
}
